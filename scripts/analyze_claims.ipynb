{
 "cells": [
  {
   "cell_type": "markdown",
   "id": "08087456",
   "metadata": {},
   "source": [
    "# Reproducible Analysis of Politician Claims: A Python Demo for R2CASS@ICWSM\n",
    "\n",
    "This Jupyter Notebook demonstrates a reproducible analysis of a subset of the LIAR dataset, focusing on politician statements and their fact-checking truth ratings. This analysis is designed to be run seamlessly via Binder, ensuring reproducibility across different environments.\n",
    "\n",
    "**Goal:** To load a dataset of politician claims, analyze the distribution of their truth ratings, and visualize the results."
   ]
  },
  {
   "cell_type": "markdown",
   "id": "7993a30e",
   "metadata": {},
   "source": [
    "## 1. Setup and Data Loading\n",
    "\n",
    "First, we'll import the necessary libraries (`pandas` for data manipulation, `matplotlib.pyplot` and `seaborn` for plotting) and then load our dataset."
   ]
  },
  {
   "cell_type": "code",
   "execution_count": null,
   "id": "6fa14b85",
   "metadata": {},
   "outputs": [],
   "source": [
    "import pandas as pd\n",
    "import matplotlib.pyplot as plt\n",
    "import seaborn as sns\n",
    "\n",
    "# Define column names as per LIAR dataset README, since our TSV has no header\n",
    "column_names = [\n",
    "    'ID', 'label', 'statement', 'subjects', 'speaker', 'speaker_job_title',\n",
    "    'state_info', 'party_affiliation', 'barely_true_counts', 'false_counts',\n",
    "    'half_true_counts', 'mostly_true_counts', 'pants_on_fire_counts', 'context'\n",
    "]\n",
    "\n",
    "# Load the dataset.tsv file\n",
    "# The 'sep=\\t' specifies tab-separated values.\n",
    "# 'header=None' indicates no header row.\n",
    "# 'names=column_names' assigns our custom column names.\n",
    "df = pd.read_csv('../data/dataset.tsv', sep='\\t', header=None, names=column_names)\n",
    "\n",
    "print(\"Dataset loaded successfully!\")\n",
    "print(f\"Number of claims: {len(df)}\")\n",
    "print(\"\\nFirst 5 rows of the dataset:\")\n",
    "print(df.head())"
   ]
  },
  {
   "cell_type": "markdown",
   "id": "2792f474",
   "metadata": {
    "vscode": {
     "languageId": "plaintext"
    }
   },
   "source": [
    "## 2. Analyze Distribution of Truth Ratings\n",
    "\n",
    "Let's examine how many claims fall into each truth rating category (`label` column)."
   ]
  },
  {
   "cell_type": "code",
   "execution_count": null,
   "id": "19dd3744",
   "metadata": {},
   "outputs": [],
   "source": [
    "truth_rating_counts = df['label'].value_counts().sort_index()\n",
    "\n",
    "print(\"\\nDistribution of Truth Ratings:\")\n",
    "print(truth_rating_counts)"
   ]
  },
  {
   "cell_type": "markdown",
   "id": "8243542c",
   "metadata": {},
   "source": [
    "## 3. Visualize Truth Rating Distribution\n",
    "\n",
    "A bar chart provides a clear visual summary of the truth rating distribution. We'll order the labels for better readability."
   ]
  },
  {
   "cell_type": "code",
   "execution_count": null,
   "id": "85396d99",
   "metadata": {},
   "outputs": [],
   "source": [
    "plt.figure(figsize=(10, 6))\n",
    "sns.barplot(x=truth_rating_counts.index, y=truth_rating_counts.values, palette='viridis')\n",
    "plt.title('Distribution of Politician Claim Truth Ratings')\n",
    "plt.xlabel('Truth Rating')\n",
    "plt.ylabel('Number of Claims')\n",
    "plt.xticks(rotation=45, ha='right')\n",
    "plt.tight_layout()\n",
    "plt.show()\n",
    "\n",
    "# Save the plot to a file that can be viewed in the Binder environment\n",
    "plt.savefig('truth_ratings_distribution.png')\n",
    "print(\"Plot saved as 'truth_ratings_distribution.png'\")"
   ]
  },
  {
   "cell_type": "markdown",
   "id": "a6f5fb53",
   "metadata": {},
   "source": [
    "## 4. Analyze Claims by Party Affiliation\n",
    "\n",
    "Let's also see the distribution of claims by the speaker's political party."
   ]
  },
  {
   "cell_type": "code",
   "execution_count": null,
   "id": "7500ba60",
   "metadata": {},
   "outputs": [],
   "source": [
    "# Clean party_affiliation data: replace empty strings/NaN with 'Unknown'\n",
    "df['party_affiliation'] = df['party_affiliation'].replace('', 'unknown').fillna('unknown')\n",
    "party_counts = df['party_affiliation'].value_counts().sort_index()\n",
    "\n",
    "print(\"\\nDistribution of Claims by Party Affiliation:\")\n",
    "print(party_counts)"
   ]
  },
  {
   "cell_type": "markdown",
   "id": "234599b6",
   "metadata": {
    "vscode": {
     "languageId": "plaintext"
    }
   },
   "source": [
    "## 5. Visualize Claims by Party Affiliation\n",
    "\n",
    "Finally, a bar chart for party affiliation to complete our brief exploration."
   ]
  },
  {
   "cell_type": "code",
   "execution_count": null,
   "id": "86941ea7",
   "metadata": {},
   "outputs": [],
   "source": [
    "plt.figure(figsize=(10, 6))\n",
    "sns.barplot(x=party_counts.index, y=party_counts.values, palette='plasma')\n",
    "plt.title('Distribution of Claims by Political Party Affiliation')\n",
    "plt.xlabel('Party Affiliation')\n",
    "plt.ylabel('Number of Claims')\n",
    "plt.xticks(rotation=45, ha='right')\n",
    "plt.tight_layout()\n",
    "plt.show()\n",
    "\n",
    "# Save the plot\n",
    "plt.savefig('party_affiliation_distribution.png')\n",
    "print(\"Plot saved as 'party_affiliation_distribution.png'\")"
   ]
  },
  {
   "cell_type": "markdown",
   "id": "bf32a879",
   "metadata": {},
   "source": [
    "## Conclusion\n",
    "\n",
    "This notebook demonstrates how to load, analyze, and visualize data related to politician claims and their truth ratings in a reproducible Python environment. By packaging this with Binder, we ensure anyone can rerun this analysis with ease.\n",
    "\n",
    "Feel free to modify the code, add new analyses, or explore other aspects of the dataset!"
   ]
  },
  {
   "cell_type": "markdown",
   "id": "9ef51949",
   "metadata": {},
   "source": []
  }
 ],
 "metadata": {
  "kernelspec": {
   "display_name": "base",
   "language": "python",
   "name": "python3"
  },
  "language_info": {
   "codemirror_mode": {
    "name": "ipython",
    "version": 3
   },
   "file_extension": ".py",
   "mimetype": "text/x-python",
   "name": "python",
   "nbconvert_exporter": "python",
   "pygments_lexer": "ipython3",
   "version": "3.9.15"
  }
 },
 "nbformat": 4,
 "nbformat_minor": 5
}
